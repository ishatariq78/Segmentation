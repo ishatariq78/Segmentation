{
  "cells": [
    {
      "cell_type": "code",
      "execution_count": null,
      "metadata": {
        "colab": {
          "base_uri": "https://localhost:8080/"
        },
        "id": "EeXV0voNYdes",
        "outputId": "54131c56-7ad9-42e9-d7d9-048bb08827db"
      },
      "outputs": [
        {
          "output_type": "stream",
          "name": "stdout",
          "text": [
            "Collecting IProgress\n",
            "  Downloading IProgress-0.4-py3-none-any.whl (11 kB)\n",
            "Requirement already satisfied: six in /usr/local/lib/python3.10/dist-packages (from IProgress) (1.16.0)\n",
            "Installing collected packages: IProgress\n",
            "Successfully installed IProgress-0.4\n"
          ]
        }
      ],
      "source": [
        "import os\n",
        "import numpy as np\n",
        "import glob as glob\n",
        "import matplotlib.pyplot as plt\n",
        "import random\n",
        "import cv2\n",
        "import requests\n",
        "from IPython.display import Image\n",
        "from tqdm import tqdm\n",
        "!pip install IProgress\n",
        "from ipywidgets import IntProgress"
      ]
    },
    {
      "cell_type": "code",
      "execution_count": null,
      "metadata": {
        "colab": {
          "base_uri": "https://localhost:8080/"
        },
        "id": "PrAJH9HuYeVx",
        "outputId": "e36bc679-dac8-45fd-a183-f473e43726fe"
      },
      "outputs": [
        {
          "output_type": "stream",
          "name": "stderr",
          "text": [
            "YOLOv5 🚀 v7.0-267-gc42aba5 Python-3.10.12 torch-2.1.0+cu121 CPU\n"
          ]
        },
        {
          "output_type": "stream",
          "name": "stdout",
          "text": [
            "Setup complete ✅ (2 CPUs, 12.7 GB RAM, 26.3/107.7 GB disk)\n"
          ]
        }
      ],
      "source": [
        "!git clone https://github.com/ultralytics/yolov5  # clone\n",
        "%cd yolov5\n",
        "%pip install -qr requirements.txt  # install\n",
        "\n",
        "import torch\n",
        "import utils\n",
        "display = utils.notebook_init()  # checks"
      ]
    },
    {
      "cell_type": "code",
      "execution_count": null,
      "metadata": {
        "colab": {
          "base_uri": "https://localhost:8080/",
          "height": 1000
        },
        "id": "nbpJCGqGYiQg",
        "outputId": "f193cb2a-d826-4007-8847-a181807e25c5"
      },
      "outputs": [
        {
          "output_type": "stream",
          "name": "stdout",
          "text": [
            "Collecting roboflow\n",
            "  Downloading roboflow-1.1.14-py3-none-any.whl (68 kB)\n",
            "\u001b[2K     \u001b[90m━━━━━━━━━━━━━━━━━━━━━━━━━━━━━━━━━━━━━━━━\u001b[0m \u001b[32m69.0/69.0 kB\u001b[0m \u001b[31m994.3 kB/s\u001b[0m eta \u001b[36m0:00:00\u001b[0m\n",
            "\u001b[?25hCollecting certifi==2023.7.22 (from roboflow)\n",
            "  Downloading certifi-2023.7.22-py3-none-any.whl (158 kB)\n",
            "\u001b[2K     \u001b[90m━━━━━━━━━━━━━━━━━━━━━━━━━━━━━━━━━━━━━━━━\u001b[0m \u001b[32m158.3/158.3 kB\u001b[0m \u001b[31m4.8 MB/s\u001b[0m eta \u001b[36m0:00:00\u001b[0m\n",
            "\u001b[?25hCollecting chardet==4.0.0 (from roboflow)\n",
            "  Downloading chardet-4.0.0-py2.py3-none-any.whl (178 kB)\n",
            "\u001b[2K     \u001b[90m━━━━━━━━━━━━━━━━━━━━━━━━━━━━━━━━━━━━━━━━\u001b[0m \u001b[32m178.7/178.7 kB\u001b[0m \u001b[31m16.0 MB/s\u001b[0m eta \u001b[36m0:00:00\u001b[0m\n",
            "\u001b[?25hCollecting cycler==0.10.0 (from roboflow)\n",
            "  Downloading cycler-0.10.0-py2.py3-none-any.whl (6.5 kB)\n",
            "Collecting idna==2.10 (from roboflow)\n",
            "  Downloading idna-2.10-py2.py3-none-any.whl (58 kB)\n",
            "\u001b[2K     \u001b[90m━━━━━━━━━━━━━━━━━━━━━━━━━━━━━━━━━━━━━━━━\u001b[0m \u001b[32m58.8/58.8 kB\u001b[0m \u001b[31m7.3 MB/s\u001b[0m eta \u001b[36m0:00:00\u001b[0m\n",
            "\u001b[?25hRequirement already satisfied: kiwisolver>=1.3.1 in /usr/local/lib/python3.10/dist-packages (from roboflow) (1.4.5)\n",
            "Requirement already satisfied: matplotlib in /usr/local/lib/python3.10/dist-packages (from roboflow) (3.7.1)\n",
            "Requirement already satisfied: numpy>=1.18.5 in /usr/local/lib/python3.10/dist-packages (from roboflow) (1.23.5)\n",
            "Collecting opencv-python-headless==4.8.0.74 (from roboflow)\n",
            "  Downloading opencv_python_headless-4.8.0.74-cp37-abi3-manylinux_2_17_x86_64.manylinux2014_x86_64.whl (49.1 MB)\n",
            "\u001b[2K     \u001b[90m━━━━━━━━━━━━━━━━━━━━━━━━━━━━━━━━━━━━━━━━\u001b[0m \u001b[32m49.1/49.1 MB\u001b[0m \u001b[31m13.1 MB/s\u001b[0m eta \u001b[36m0:00:00\u001b[0m\n",
            "\u001b[?25hRequirement already satisfied: Pillow>=7.1.2 in /usr/local/lib/python3.10/dist-packages (from roboflow) (10.2.0)\n",
            "Collecting pyparsing==2.4.7 (from roboflow)\n",
            "  Downloading pyparsing-2.4.7-py2.py3-none-any.whl (67 kB)\n",
            "\u001b[2K     \u001b[90m━━━━━━━━━━━━━━━━━━━━━━━━━━━━━━━━━━━━━━━━\u001b[0m \u001b[32m67.8/67.8 kB\u001b[0m \u001b[31m8.5 MB/s\u001b[0m eta \u001b[36m0:00:00\u001b[0m\n",
            "\u001b[?25hRequirement already satisfied: python-dateutil in /usr/local/lib/python3.10/dist-packages (from roboflow) (2.8.2)\n",
            "Collecting python-dotenv (from roboflow)\n",
            "  Downloading python_dotenv-1.0.0-py3-none-any.whl (19 kB)\n",
            "Requirement already satisfied: requests in /usr/local/lib/python3.10/dist-packages (from roboflow) (2.31.0)\n",
            "Requirement already satisfied: six in /usr/local/lib/python3.10/dist-packages (from roboflow) (1.16.0)\n",
            "Collecting supervision (from roboflow)\n",
            "  Downloading supervision-0.17.1-py3-none-any.whl (77 kB)\n",
            "\u001b[2K     \u001b[90m━━━━━━━━━━━━━━━━━━━━━━━━━━━━━━━━━━━━━━━━\u001b[0m \u001b[32m77.5/77.5 kB\u001b[0m \u001b[31m10.1 MB/s\u001b[0m eta \u001b[36m0:00:00\u001b[0m\n",
            "\u001b[?25hRequirement already satisfied: urllib3>=1.26.6 in /usr/local/lib/python3.10/dist-packages (from roboflow) (2.0.7)\n",
            "Requirement already satisfied: tqdm>=4.41.0 in /usr/local/lib/python3.10/dist-packages (from roboflow) (4.66.1)\n",
            "Requirement already satisfied: PyYAML>=5.3.1 in /usr/local/lib/python3.10/dist-packages (from roboflow) (6.0.1)\n",
            "Collecting requests-toolbelt (from roboflow)\n",
            "  Downloading requests_toolbelt-1.0.0-py2.py3-none-any.whl (54 kB)\n",
            "\u001b[2K     \u001b[90m━━━━━━━━━━━━━━━━━━━━━━━━━━━━━━━━━━━━━━━━\u001b[0m \u001b[32m54.5/54.5 kB\u001b[0m \u001b[31m7.2 MB/s\u001b[0m eta \u001b[36m0:00:00\u001b[0m\n",
            "\u001b[?25hCollecting python-magic (from roboflow)\n",
            "  Downloading python_magic-0.4.27-py2.py3-none-any.whl (13 kB)\n",
            "Requirement already satisfied: contourpy>=1.0.1 in /usr/local/lib/python3.10/dist-packages (from matplotlib->roboflow) (1.2.0)\n",
            "Requirement already satisfied: fonttools>=4.22.0 in /usr/local/lib/python3.10/dist-packages (from matplotlib->roboflow) (4.47.0)\n",
            "Requirement already satisfied: packaging>=20.0 in /usr/local/lib/python3.10/dist-packages (from matplotlib->roboflow) (23.2)\n",
            "Requirement already satisfied: charset-normalizer<4,>=2 in /usr/local/lib/python3.10/dist-packages (from requests->roboflow) (3.3.2)\n",
            "Requirement already satisfied: scipy>=1.9.0 in /usr/local/lib/python3.10/dist-packages (from supervision->roboflow) (1.11.4)\n",
            "Installing collected packages: python-magic, python-dotenv, pyparsing, opencv-python-headless, idna, cycler, chardet, certifi, supervision, requests-toolbelt, roboflow\n",
            "  Attempting uninstall: pyparsing\n",
            "    Found existing installation: pyparsing 3.1.1\n",
            "    Uninstalling pyparsing-3.1.1:\n",
            "      Successfully uninstalled pyparsing-3.1.1\n",
            "  Attempting uninstall: opencv-python-headless\n",
            "    Found existing installation: opencv-python-headless 4.8.1.78\n",
            "    Uninstalling opencv-python-headless-4.8.1.78:\n",
            "      Successfully uninstalled opencv-python-headless-4.8.1.78\n",
            "  Attempting uninstall: idna\n",
            "    Found existing installation: idna 3.6\n",
            "    Uninstalling idna-3.6:\n",
            "      Successfully uninstalled idna-3.6\n",
            "  Attempting uninstall: cycler\n",
            "    Found existing installation: cycler 0.12.1\n",
            "    Uninstalling cycler-0.12.1:\n",
            "      Successfully uninstalled cycler-0.12.1\n",
            "  Attempting uninstall: chardet\n",
            "    Found existing installation: chardet 5.2.0\n",
            "    Uninstalling chardet-5.2.0:\n",
            "      Successfully uninstalled chardet-5.2.0\n",
            "  Attempting uninstall: certifi\n",
            "    Found existing installation: certifi 2023.11.17\n",
            "    Uninstalling certifi-2023.11.17:\n",
            "      Successfully uninstalled certifi-2023.11.17\n",
            "\u001b[31mERROR: pip's dependency resolver does not currently take into account all the packages that are installed. This behaviour is the source of the following dependency conflicts.\n",
            "lida 0.0.10 requires fastapi, which is not installed.\n",
            "lida 0.0.10 requires kaleido, which is not installed.\n",
            "lida 0.0.10 requires python-multipart, which is not installed.\n",
            "lida 0.0.10 requires uvicorn, which is not installed.\u001b[0m\u001b[31m\n",
            "\u001b[0mSuccessfully installed certifi-2023.7.22 chardet-4.0.0 cycler-0.10.0 idna-2.10 opencv-python-headless-4.8.0.74 pyparsing-2.4.7 python-dotenv-1.0.0 python-magic-0.4.27 requests-toolbelt-1.0.0 roboflow-1.1.14 supervision-0.17.1\n"
          ]
        },
        {
          "output_type": "display_data",
          "data": {
            "application/vnd.colab-display-data+json": {
              "pip_warning": {
                "packages": [
                  "certifi",
                  "chardet",
                  "cv2",
                  "cycler",
                  "idna",
                  "pyparsing"
                ]
              }
            }
          },
          "metadata": {}
        },
        {
          "output_type": "stream",
          "name": "stdout",
          "text": [
            "loading Roboflow workspace...\n",
            "loading Roboflow project...\n"
          ]
        },
        {
          "output_type": "stream",
          "name": "stderr",
          "text": [
            "Downloading Dataset Version Zip in Simulation-YCB-1 to yolov5pytorch:: 100%|██████████| 4295/4295 [00:00<00:00, 19677.65it/s]"
          ]
        },
        {
          "output_type": "stream",
          "name": "stdout",
          "text": [
            "\n"
          ]
        },
        {
          "output_type": "stream",
          "name": "stderr",
          "text": [
            "\n",
            "Extracting Dataset Version Zip to Simulation-YCB-1 in yolov5pytorch:: 100%|██████████| 350/350 [00:00<00:00, 5240.54it/s]\n"
          ]
        }
      ],
      "source": [
        "!pip install roboflow\n",
        "\n",
        "from roboflow import Roboflow\n",
        "rf = Roboflow(api_key=\"JaHbuZAnQIPRBy5b2aU8\")\n",
        "project = rf.workspace(\"socrob\").project(\"simulation-ycb\")\n",
        "dataset = project.version(1).download(\"yolov5\")\n"
      ]
    },
    {
      "cell_type": "code",
      "execution_count": null,
      "metadata": {
        "colab": {
          "base_uri": "https://localhost:8080/"
        },
        "id": "kNzmwoAqYlga",
        "outputId": "e3fc4415-4761-4878-d627-a8a88a11e637"
      },
      "outputs": [
        {
          "output_type": "stream",
          "name": "stderr",
          "text": [
            "Downloading https://github.com/ultralytics/yolov5/releases/download/v7.0/yolov5n-seg.pt to weights/yolov5n-seg.pt...\n",
            "100%|██████████| 4.11M/4.11M [00:00<00:00, 199MB/s]\n",
            "\n",
            "Downloading https://github.com/ultralytics/yolov5/releases/download/v7.0/yolov5s-seg.pt to weights/yolov5s-seg.pt...\n",
            "100%|██████████| 14.9M/14.9M [00:00<00:00, 280MB/s]\n",
            "\n",
            "Downloading https://github.com/ultralytics/yolov5/releases/download/v7.0/yolov5m-seg.pt to weights/yolov5m-seg.pt...\n",
            "100%|██████████| 42.4M/42.4M [00:00<00:00, 269MB/s]\n",
            "\n",
            "Downloading https://github.com/ultralytics/yolov5/releases/download/v7.0/yolov5l-seg.pt to weights/yolov5l-seg.pt...\n",
            "100%|██████████| 91.9M/91.9M [00:00<00:00, 227MB/s]\n",
            "\n",
            "Downloading https://github.com/ultralytics/yolov5/releases/download/v7.0/yolov5x-seg.pt to weights/yolov5x-seg.pt...\n",
            "100%|██████████| 170M/170M [00:03<00:00, 53.4MB/s]\n",
            "\n"
          ]
        }
      ],
      "source": [
        "from utils.downloads import attempt_download\n",
        "\n",
        "p5 = ['n', 's', 'm', 'l', 'x']  # P5 models\n",
        "cls = [f'{x}-seg' for x in p5]\n",
        "\n",
        "for x in cls:\n",
        "    attempt_download(f'weights/yolov5{x}.pt')"
      ]
    },
    {
      "cell_type": "code",
      "execution_count": 5,
      "metadata": {
        "colab": {
          "base_uri": "https://localhost:8080/"
        },
        "id": "7TV5Lo2IYrs7",
        "outputId": "54e4615c-8037-45e6-8025-dca94f17bf4d"
      },
      "outputs": [
        {
          "output_type": "stream",
          "name": "stdout",
          "text": [
            "2024-01-04 16:26:47.133590: E external/local_xla/xla/stream_executor/cuda/cuda_dnn.cc:9261] Unable to register cuDNN factory: Attempting to register factory for plugin cuDNN when one has already been registered\n",
            "2024-01-04 16:26:47.133673: E external/local_xla/xla/stream_executor/cuda/cuda_fft.cc:607] Unable to register cuFFT factory: Attempting to register factory for plugin cuFFT when one has already been registered\n",
            "2024-01-04 16:26:47.135441: E external/local_xla/xla/stream_executor/cuda/cuda_blas.cc:1515] Unable to register cuBLAS factory: Attempting to register factory for plugin cuBLAS when one has already been registered\n",
            "\u001b[34m\u001b[1msegment/train: \u001b[0mweights=/content/yolov5/weights/yolov5s-seg.pt, cfg=, data=/content/yolov5/Simulation-YCB-1/data.yaml, hyp=data/hyps/hyp.scratch-low.yaml, epochs=30, batch_size=16, imgsz=416, rect=False, resume=False, nosave=False, noval=False, noautoanchor=False, noplots=False, evolve=None, bucket=, cache=None, image_weights=False, device=, multi_scale=False, single_cls=False, optimizer=SGD, sync_bn=False, workers=8, project=runs/train-seg, name=exp, exist_ok=False, quad=False, cos_lr=False, label_smoothing=0.0, patience=100, freeze=[0], save_period=-1, seed=0, local_rank=-1, mask_ratio=4, no_overlap=False\n",
            "\u001b[34m\u001b[1mgithub: \u001b[0mup to date with https://github.com/ultralytics/yolov5 ✅\n",
            "YOLOv5 🚀 v7.0-267-gc42aba5 Python-3.10.12 torch-2.1.0+cu121 CPU\n",
            "\n",
            "\u001b[34m\u001b[1mhyperparameters: \u001b[0mlr0=0.01, lrf=0.01, momentum=0.937, weight_decay=0.0005, warmup_epochs=3.0, warmup_momentum=0.8, warmup_bias_lr=0.1, box=0.05, cls=0.5, cls_pw=1.0, obj=1.0, obj_pw=1.0, iou_t=0.2, anchor_t=4.0, fl_gamma=0.0, hsv_h=0.015, hsv_s=0.7, hsv_v=0.4, degrees=0.0, translate=0.1, scale=0.5, shear=0.0, perspective=0.0, flipud=0.0, fliplr=0.5, mosaic=1.0, mixup=0.0, copy_paste=0.0\n",
            "\u001b[34m\u001b[1mTensorBoard: \u001b[0mStart with 'tensorboard --logdir runs/train-seg', view at http://localhost:6006/\n",
            "Overriding model.yaml nc=80 with nc=34\n",
            "\n",
            "                 from  n    params  module                                  arguments                     \n",
            "  0                -1  1      3520  models.common.Conv                      [3, 32, 6, 2, 2]              \n",
            "  1                -1  1     18560  models.common.Conv                      [32, 64, 3, 2]                \n",
            "  2                -1  1     18816  models.common.C3                        [64, 64, 1]                   \n",
            "  3                -1  1     73984  models.common.Conv                      [64, 128, 3, 2]               \n",
            "  4                -1  2    115712  models.common.C3                        [128, 128, 2]                 \n",
            "  5                -1  1    295424  models.common.Conv                      [128, 256, 3, 2]              \n",
            "  6                -1  3    625152  models.common.C3                        [256, 256, 3]                 \n",
            "  7                -1  1   1180672  models.common.Conv                      [256, 512, 3, 2]              \n",
            "  8                -1  1   1182720  models.common.C3                        [512, 512, 1]                 \n",
            "  9                -1  1    656896  models.common.SPPF                      [512, 512, 5]                 \n",
            " 10                -1  1    131584  models.common.Conv                      [512, 256, 1, 1]              \n",
            " 11                -1  1         0  torch.nn.modules.upsampling.Upsample    [None, 2, 'nearest']          \n",
            " 12           [-1, 6]  1         0  models.common.Concat                    [1]                           \n",
            " 13                -1  1    361984  models.common.C3                        [512, 256, 1, False]          \n",
            " 14                -1  1     33024  models.common.Conv                      [256, 128, 1, 1]              \n",
            " 15                -1  1         0  torch.nn.modules.upsampling.Upsample    [None, 2, 'nearest']          \n",
            " 16           [-1, 4]  1         0  models.common.Concat                    [1]                           \n",
            " 17                -1  1     90880  models.common.C3                        [256, 128, 1, False]          \n",
            " 18                -1  1    147712  models.common.Conv                      [128, 128, 3, 2]              \n",
            " 19          [-1, 14]  1         0  models.common.Concat                    [1]                           \n",
            " 20                -1  1    296448  models.common.C3                        [256, 256, 1, False]          \n",
            " 21                -1  1    590336  models.common.Conv                      [256, 256, 3, 2]              \n",
            " 22          [-1, 10]  1         0  models.common.Concat                    [1]                           \n",
            " 23                -1  1   1182720  models.common.C3                        [512, 512, 1, False]          \n",
            " 24      [17, 20, 23]  1    491071  models.yolo.Segment                     [34, [[10, 13, 16, 30, 33, 23], [30, 61, 62, 45, 59, 119], [116, 90, 156, 198, 373, 326]], 32, 128, [128, 256, 512]]\n",
            "Model summary: 225 layers, 7497215 parameters, 7497215 gradients, 26.2 GFLOPs\n",
            "\n",
            "Transferred 361/367 items from /content/yolov5/weights/yolov5s-seg.pt\n",
            "\u001b[34m\u001b[1moptimizer:\u001b[0m SGD(lr=0.01) with parameter groups 60 weight(decay=0.0), 63 weight(decay=0.0005), 63 bias\n",
            "\u001b[34m\u001b[1malbumentations: \u001b[0mBlur(p=0.01, blur_limit=(3, 7)), MedianBlur(p=0.01, blur_limit=(3, 7)), ToGray(p=0.01), CLAHE(p=0.01, clip_limit=(1, 4.0), tile_grid_size=(8, 8))\n",
            "\u001b[34m\u001b[1mtrain: \u001b[0mScanning /content/yolov5/Simulation-YCB-1/train/labels... 144 images, 0 backgrounds, 0 corrupt: 100% 144/144 [00:00<00:00, 963.98it/s]\n",
            "\u001b[34m\u001b[1mtrain: \u001b[0mNew cache created: /content/yolov5/Simulation-YCB-1/train/labels.cache\n",
            "\u001b[34m\u001b[1mval: \u001b[0mScanning /content/yolov5/Simulation-YCB-1/valid/labels... 17 images, 0 backgrounds, 0 corrupt: 100% 17/17 [00:00<00:00, 203.66it/s]\n",
            "\u001b[34m\u001b[1mval: \u001b[0mNew cache created: /content/yolov5/Simulation-YCB-1/valid/labels.cache\n",
            "\n",
            "\u001b[34m\u001b[1mAutoAnchor: \u001b[0m5.62 anchors/target, 1.000 Best Possible Recall (BPR). Current anchors are a good fit to dataset ✅\n",
            "Plotting labels to runs/train-seg/exp/labels.jpg... \n",
            "Image sizes 416 train, 416 val\n",
            "Using 2 dataloader workers\n",
            "Logging results to \u001b[1mruns/train-seg/exp\u001b[0m\n",
            "Starting training for 30 epochs...\n",
            "\n",
            "      Epoch    GPU_mem   box_loss   seg_loss   obj_loss   cls_loss  Instances       Size\n",
            "       0/29         0G     0.1324     0.1763    0.03501     0.1058         89        416: 100% 9/9 [02:36<00:00, 17.37s/it]\n",
            "                 Class     Images  Instances      Box(P          R      mAP50  mAP50-95)     Mask(P          R      mAP50  mAP50-95): 100% 1/1 [00:07<00:00,  7.20s/it]\n",
            "                   all         17         96   0.000216     0.0104   0.000233   2.33e-05   0.000216     0.0104   0.000233    9.3e-05\n",
            "\n",
            "      Epoch    GPU_mem   box_loss   seg_loss   obj_loss   cls_loss  Instances       Size\n",
            "       1/29         0G     0.1268    0.06377     0.0386    0.09997        147        416: 100% 9/9 [02:24<00:00, 16.01s/it]\n",
            "                 Class     Images  Instances      Box(P          R      mAP50  mAP50-95)     Mask(P          R      mAP50  mAP50-95): 100% 1/1 [00:06<00:00,  6.64s/it]\n",
            "                   all         17         96   0.000552     0.0312   0.000619   0.000102    0.00105     0.0365    0.00168   0.000456\n",
            "\n",
            "      Epoch    GPU_mem   box_loss   seg_loss   obj_loss   cls_loss  Instances       Size\n",
            "       2/29         0G     0.1135    0.03178    0.04816     0.0943        211        416: 100% 9/9 [02:18<00:00, 15.41s/it]\n",
            "                 Class     Images  Instances      Box(P          R      mAP50  mAP50-95)     Mask(P          R      mAP50  mAP50-95): 100% 1/1 [00:06<00:00,  6.93s/it]\n",
            "                   all         17         96    0.00396      0.176     0.0163    0.00271    0.00793      0.282     0.0246     0.0157\n",
            "\n",
            "      Epoch    GPU_mem   box_loss   seg_loss   obj_loss   cls_loss  Instances       Size\n",
            "       3/29         0G     0.1011    0.02426    0.06259     0.0894        199        416: 100% 9/9 [02:19<00:00, 15.54s/it]\n",
            "                 Class     Images  Instances      Box(P          R      mAP50  mAP50-95)     Mask(P          R      mAP50  mAP50-95): 100% 1/1 [00:08<00:00,  8.17s/it]\n",
            "                   all         17         96    0.00538       0.24     0.0098    0.00308     0.0105      0.421     0.0351     0.0159\n",
            "\n",
            "      Epoch    GPU_mem   box_loss   seg_loss   obj_loss   cls_loss  Instances       Size\n",
            "       4/29         0G    0.09049    0.02309    0.05248    0.08931        135        416: 100% 9/9 [02:23<00:00, 15.90s/it]\n",
            "                 Class     Images  Instances      Box(P          R      mAP50  mAP50-95)     Mask(P          R      mAP50  mAP50-95):   0% 0/1 [00:00<?, ?it/s]WARNING ⚠️ NMS time limit 1.350s exceeded\n",
            "                 Class     Images  Instances      Box(P          R      mAP50  mAP50-95)     Mask(P          R      mAP50  mAP50-95): 100% 1/1 [00:06<00:00,  6.84s/it]\n",
            "                   all         17         96          0          0          0          0    0.00333     0.0135    0.00234   0.000587\n",
            "\n",
            "      Epoch    GPU_mem   box_loss   seg_loss   obj_loss   cls_loss  Instances       Size\n",
            "       5/29         0G    0.08384    0.01838    0.04836    0.08837        147        416: 100% 9/9 [02:21<00:00, 15.67s/it]\n",
            "                 Class     Images  Instances      Box(P          R      mAP50  mAP50-95)     Mask(P          R      mAP50  mAP50-95):   0% 0/1 [00:00<?, ?it/s]WARNING ⚠️ NMS time limit 1.350s exceeded\n",
            "                 Class     Images  Instances      Box(P          R      mAP50  mAP50-95)     Mask(P          R      mAP50  mAP50-95): 100% 1/1 [00:07<00:00,  7.71s/it]\n",
            "                   all         17         96     0.0642     0.0156    0.00169   0.000506     0.0716     0.0479     0.0121    0.00478\n",
            "\n",
            "      Epoch    GPU_mem   box_loss   seg_loss   obj_loss   cls_loss  Instances       Size\n",
            "       6/29         0G    0.07835    0.01768    0.04306    0.08762        123        416: 100% 9/9 [02:20<00:00, 15.56s/it]\n",
            "                 Class     Images  Instances      Box(P          R      mAP50  mAP50-95)     Mask(P          R      mAP50  mAP50-95):   0% 0/1 [00:00<?, ?it/s]WARNING ⚠️ NMS time limit 1.350s exceeded\n",
            "                 Class     Images  Instances      Box(P          R      mAP50  mAP50-95)     Mask(P          R      mAP50  mAP50-95): 100% 1/1 [00:06<00:00,  6.70s/it]\n",
            "                   all         17         96    0.00838     0.0552    0.00757    0.00234     0.0128     0.0656     0.0225     0.0119\n",
            "\n",
            "      Epoch    GPU_mem   box_loss   seg_loss   obj_loss   cls_loss  Instances       Size\n",
            "       7/29         0G    0.08135    0.01651    0.04314    0.08611        162        416: 100% 9/9 [02:21<00:00, 15.77s/it]\n",
            "                 Class     Images  Instances      Box(P          R      mAP50  mAP50-95)     Mask(P          R      mAP50  mAP50-95):   0% 0/1 [00:00<?, ?it/s]WARNING ⚠️ NMS time limit 1.350s exceeded\n",
            "                 Class     Images  Instances      Box(P          R      mAP50  mAP50-95)     Mask(P          R      mAP50  mAP50-95): 100% 1/1 [00:07<00:00,  7.67s/it]\n",
            "                   all         17         96      0.698     0.0135     0.0242    0.00659      0.698     0.0135     0.0242     0.0178\n",
            "\n",
            "      Epoch    GPU_mem   box_loss   seg_loss   obj_loss   cls_loss  Instances       Size\n",
            "       8/29         0G    0.07192    0.01863    0.04365    0.08438        182        416: 100% 9/9 [02:25<00:00, 16.20s/it]\n",
            "                 Class     Images  Instances      Box(P          R      mAP50  mAP50-95)     Mask(P          R      mAP50  mAP50-95):   0% 0/1 [00:00<?, ?it/s]WARNING ⚠️ NMS time limit 1.350s exceeded\n",
            "                 Class     Images  Instances      Box(P          R      mAP50  mAP50-95)     Mask(P          R      mAP50  mAP50-95): 100% 1/1 [00:07<00:00,  7.68s/it]\n",
            "                   all         17         96     0.0113      0.117     0.0189    0.00648     0.0127      0.123     0.0337     0.0245\n",
            "\n",
            "      Epoch    GPU_mem   box_loss   seg_loss   obj_loss   cls_loss  Instances       Size\n",
            "       9/29         0G    0.07469    0.01981    0.04168    0.08293        170        416: 100% 9/9 [02:20<00:00, 15.58s/it]\n",
            "                 Class     Images  Instances      Box(P          R      mAP50  mAP50-95)     Mask(P          R      mAP50  mAP50-95):   0% 0/1 [00:00<?, ?it/s]WARNING ⚠️ NMS time limit 1.350s exceeded\n",
            "                 Class     Images  Instances      Box(P          R      mAP50  mAP50-95)     Mask(P          R      mAP50  mAP50-95): 100% 1/1 [00:07<00:00,  7.09s/it]\n",
            "                   all         17         96      0.242     0.0924     0.0551     0.0176      0.918     0.0604     0.0863     0.0544\n",
            "\n",
            "      Epoch    GPU_mem   box_loss   seg_loss   obj_loss   cls_loss  Instances       Size\n",
            "      10/29         0G    0.06974    0.01787    0.04081    0.08267        117        416: 100% 9/9 [02:19<00:00, 15.52s/it]\n",
            "                 Class     Images  Instances      Box(P          R      mAP50  mAP50-95)     Mask(P          R      mAP50  mAP50-95):   0% 0/1 [00:00<?, ?it/s]WARNING ⚠️ NMS time limit 1.350s exceeded\n",
            "                 Class     Images  Instances      Box(P          R      mAP50  mAP50-95)     Mask(P          R      mAP50  mAP50-95): 100% 1/1 [00:08<00:00,  8.11s/it]\n",
            "                   all         17         96      0.865     0.0665     0.0984     0.0351      0.871     0.0822      0.116     0.0882\n",
            "\n",
            "      Epoch    GPU_mem   box_loss   seg_loss   obj_loss   cls_loss  Instances       Size\n",
            "      11/29         0G    0.06802    0.01494    0.04041    0.08226        147        416: 100% 9/9 [02:18<00:00, 15.35s/it]\n",
            "                 Class     Images  Instances      Box(P          R      mAP50  mAP50-95)     Mask(P          R      mAP50  mAP50-95):   0% 0/1 [00:00<?, ?it/s]WARNING ⚠️ NMS time limit 1.350s exceeded\n",
            "                 Class     Images  Instances      Box(P          R      mAP50  mAP50-95)     Mask(P          R      mAP50  mAP50-95): 100% 1/1 [00:07<00:00,  7.41s/it]\n",
            "                   all         17         96      0.439      0.115      0.136     0.0498      0.439      0.121      0.168      0.103\n",
            "\n",
            "      Epoch    GPU_mem   box_loss   seg_loss   obj_loss   cls_loss  Instances       Size\n",
            "      12/29         0G    0.06591    0.01621    0.03992    0.08202        158        416: 100% 9/9 [02:23<00:00, 15.95s/it]\n",
            "                 Class     Images  Instances      Box(P          R      mAP50  mAP50-95)     Mask(P          R      mAP50  mAP50-95): 100% 1/1 [00:08<00:00,  8.42s/it]\n",
            "                   all         17         96      0.439      0.102     0.0849     0.0334      0.217      0.201      0.181     0.0899\n",
            "\n",
            "      Epoch    GPU_mem   box_loss   seg_loss   obj_loss   cls_loss  Instances       Size\n",
            "      13/29         0G    0.06731    0.01542     0.0382    0.08121        143        416: 100% 9/9 [02:22<00:00, 15.84s/it]\n",
            "                 Class     Images  Instances      Box(P          R      mAP50  mAP50-95)     Mask(P          R      mAP50  mAP50-95):   0% 0/1 [00:00<?, ?it/s]WARNING ⚠️ NMS time limit 1.350s exceeded\n",
            "                 Class     Images  Instances      Box(P          R      mAP50  mAP50-95)     Mask(P          R      mAP50  mAP50-95): 100% 1/1 [00:08<00:00,  8.28s/it]\n",
            "                   all         17         96       0.47      0.142      0.155     0.0681       0.47      0.142      0.156     0.0984\n",
            "\n",
            "      Epoch    GPU_mem   box_loss   seg_loss   obj_loss   cls_loss  Instances       Size\n",
            "      14/29         0G    0.05816    0.01555    0.03846    0.08078        182        416: 100% 9/9 [02:20<00:00, 15.62s/it]\n",
            "                 Class     Images  Instances      Box(P          R      mAP50  mAP50-95)     Mask(P          R      mAP50  mAP50-95): 100% 1/1 [00:06<00:00,  6.97s/it]\n",
            "                   all         17         96      0.267      0.205      0.149      0.066      0.267      0.205      0.147     0.0983\n",
            "\n",
            "      Epoch    GPU_mem   box_loss   seg_loss   obj_loss   cls_loss  Instances       Size\n",
            "      15/29         0G    0.06038    0.01432    0.03595    0.08003        154        416: 100% 9/9 [02:19<00:00, 15.52s/it]\n",
            "                 Class     Images  Instances      Box(P          R      mAP50  mAP50-95)     Mask(P          R      mAP50  mAP50-95): 100% 1/1 [00:07<00:00,  7.64s/it]\n",
            "                   all         17         96      0.295      0.198      0.166     0.0561      0.265      0.231      0.207      0.141\n",
            "\n",
            "      Epoch    GPU_mem   box_loss   seg_loss   obj_loss   cls_loss  Instances       Size\n",
            "      16/29         0G    0.05416    0.01467    0.03734    0.07991        165        416: 100% 9/9 [02:20<00:00, 15.58s/it]\n",
            "                 Class     Images  Instances      Box(P          R      mAP50  mAP50-95)     Mask(P          R      mAP50  mAP50-95): 100% 1/1 [00:07<00:00,  7.04s/it]\n",
            "                   all         17         96      0.253      0.237      0.186     0.0591      0.265      0.276      0.206      0.151\n",
            "\n",
            "      Epoch    GPU_mem   box_loss   seg_loss   obj_loss   cls_loss  Instances       Size\n",
            "      17/29         0G    0.05139    0.01462    0.03544    0.07964        134        416: 100% 9/9 [02:20<00:00, 15.64s/it]\n",
            "                 Class     Images  Instances      Box(P          R      mAP50  mAP50-95)     Mask(P          R      mAP50  mAP50-95): 100% 1/1 [00:07<00:00,  7.43s/it]\n",
            "                   all         17         96      0.315      0.239      0.196     0.0868      0.316      0.247      0.214      0.162\n",
            "\n",
            "      Epoch    GPU_mem   box_loss   seg_loss   obj_loss   cls_loss  Instances       Size\n",
            "      18/29         0G    0.04873    0.01445    0.03574    0.07991        170        416: 100% 9/9 [02:23<00:00, 15.91s/it]\n",
            "                 Class     Images  Instances      Box(P          R      mAP50  mAP50-95)     Mask(P          R      mAP50  mAP50-95): 100% 1/1 [00:07<00:00,  7.24s/it]\n",
            "                   all         17         96      0.271      0.237      0.202     0.0882      0.307      0.248      0.207      0.154\n",
            "\n",
            "      Epoch    GPU_mem   box_loss   seg_loss   obj_loss   cls_loss  Instances       Size\n",
            "      19/29         0G    0.04647    0.01451    0.03599    0.07894        214        416: 100% 9/9 [02:19<00:00, 15.50s/it]\n",
            "                 Class     Images  Instances      Box(P          R      mAP50  mAP50-95)     Mask(P          R      mAP50  mAP50-95): 100% 1/1 [00:06<00:00,  6.72s/it]\n",
            "                   all         17         96      0.294      0.268      0.178     0.0983      0.294      0.252      0.184      0.116\n",
            "\n",
            "      Epoch    GPU_mem   box_loss   seg_loss   obj_loss   cls_loss  Instances       Size\n",
            "      20/29         0G    0.04705    0.01469    0.03693    0.07842        150        416: 100% 9/9 [02:19<00:00, 15.53s/it]\n",
            "                 Class     Images  Instances      Box(P          R      mAP50  mAP50-95)     Mask(P          R      mAP50  mAP50-95): 100% 1/1 [00:07<00:00,  7.02s/it]\n",
            "                   all         17         96      0.262      0.233      0.203      0.103      0.262      0.233      0.194      0.119\n",
            "\n",
            "      Epoch    GPU_mem   box_loss   seg_loss   obj_loss   cls_loss  Instances       Size\n",
            "      21/29         0G    0.04175    0.01428    0.03129    0.07827        153        416: 100% 9/9 [02:15<00:00, 15.06s/it]\n",
            "                 Class     Images  Instances      Box(P          R      mAP50  mAP50-95)     Mask(P          R      mAP50  mAP50-95): 100% 1/1 [00:07<00:00,  7.57s/it]\n",
            "                   all         17         96      0.256       0.22      0.199      0.113      0.255      0.224      0.189      0.126\n",
            "\n",
            "      Epoch    GPU_mem   box_loss   seg_loss   obj_loss   cls_loss  Instances       Size\n",
            "      22/29         0G    0.04092     0.0145    0.03426    0.07866        177        416: 100% 9/9 [02:20<00:00, 15.57s/it]\n",
            "                 Class     Images  Instances      Box(P          R      mAP50  mAP50-95)     Mask(P          R      mAP50  mAP50-95): 100% 1/1 [00:06<00:00,  6.40s/it]\n",
            "                   all         17         96      0.301       0.23      0.209      0.124      0.268      0.233      0.194      0.144\n",
            "\n",
            "      Epoch    GPU_mem   box_loss   seg_loss   obj_loss   cls_loss  Instances       Size\n",
            "      23/29         0G    0.03899    0.01457    0.03392    0.07843        189        416: 100% 9/9 [02:20<00:00, 15.57s/it]\n",
            "                 Class     Images  Instances      Box(P          R      mAP50  mAP50-95)     Mask(P          R      mAP50  mAP50-95): 100% 1/1 [00:07<00:00,  7.33s/it]\n",
            "                   all         17         96      0.279      0.275      0.225       0.13      0.279      0.275      0.225      0.176\n",
            "\n",
            "      Epoch    GPU_mem   box_loss   seg_loss   obj_loss   cls_loss  Instances       Size\n",
            "      24/29         0G    0.03922    0.01416    0.03394    0.07769        158        416: 100% 9/9 [02:20<00:00, 15.62s/it]\n",
            "                 Class     Images  Instances      Box(P          R      mAP50  mAP50-95)     Mask(P          R      mAP50  mAP50-95): 100% 1/1 [00:06<00:00,  6.36s/it]\n",
            "                   all         17         96      0.277      0.279      0.234      0.146      0.277      0.279      0.234      0.188\n",
            "\n",
            "      Epoch    GPU_mem   box_loss   seg_loss   obj_loss   cls_loss  Instances       Size\n",
            "      25/29         0G    0.03596    0.01398    0.03148    0.07738        163        416: 100% 9/9 [02:20<00:00, 15.64s/it]\n",
            "                 Class     Images  Instances      Box(P          R      mAP50  mAP50-95)     Mask(P          R      mAP50  mAP50-95): 100% 1/1 [00:06<00:00,  6.97s/it]\n",
            "                   all         17         96      0.286      0.303      0.245      0.155      0.284      0.296      0.242      0.195\n",
            "\n",
            "      Epoch    GPU_mem   box_loss   seg_loss   obj_loss   cls_loss  Instances       Size\n",
            "      26/29         0G    0.03306    0.01437     0.0346    0.07826        151        416: 100% 9/9 [02:20<00:00, 15.60s/it]\n",
            "                 Class     Images  Instances      Box(P          R      mAP50  mAP50-95)     Mask(P          R      mAP50  mAP50-95): 100% 1/1 [00:06<00:00,  6.32s/it]\n",
            "                   all         17         96      0.281      0.275      0.249      0.168      0.281      0.275      0.249      0.204\n",
            "\n",
            "      Epoch    GPU_mem   box_loss   seg_loss   obj_loss   cls_loss  Instances       Size\n",
            "      27/29         0G    0.03078    0.01315    0.03084    0.07644        114        416: 100% 9/9 [02:18<00:00, 15.44s/it]\n",
            "                 Class     Images  Instances      Box(P          R      mAP50  mAP50-95)     Mask(P          R      mAP50  mAP50-95): 100% 1/1 [00:09<00:00,  9.39s/it]\n",
            "                   all         17         96      0.282      0.302      0.259      0.182      0.282      0.302      0.259      0.192\n",
            "\n",
            "      Epoch    GPU_mem   box_loss   seg_loss   obj_loss   cls_loss  Instances       Size\n",
            "      28/29         0G    0.03001    0.01328    0.02821    0.07685        140        416: 100% 9/9 [02:20<00:00, 15.61s/it]\n",
            "                 Class     Images  Instances      Box(P          R      mAP50  mAP50-95)     Mask(P          R      mAP50  mAP50-95): 100% 1/1 [00:06<00:00,  6.45s/it]\n",
            "                   all         17         96      0.283      0.302      0.264      0.188      0.283      0.302      0.265      0.192\n",
            "\n",
            "      Epoch    GPU_mem   box_loss   seg_loss   obj_loss   cls_loss  Instances       Size\n",
            "      29/29         0G    0.02845    0.01366    0.02912     0.0779        170        416: 100% 9/9 [02:19<00:00, 15.47s/it]\n",
            "                 Class     Images  Instances      Box(P          R      mAP50  mAP50-95)     Mask(P          R      mAP50  mAP50-95): 100% 1/1 [00:07<00:00,  7.49s/it]\n",
            "                   all         17         96      0.283      0.302      0.265      0.196      0.283      0.302      0.265        0.2\n",
            "\n",
            "30 epochs completed in 1.243 hours.\n",
            "Optimizer stripped from runs/train-seg/exp/weights/last.pt, 15.3MB\n",
            "Optimizer stripped from runs/train-seg/exp/weights/best.pt, 15.3MB\n",
            "\n",
            "Validating runs/train-seg/exp/weights/best.pt...\n",
            "Fusing layers... \n",
            "Model summary: 165 layers, 7487423 parameters, 0 gradients, 26.0 GFLOPs\n",
            "                 Class     Images  Instances      Box(P          R      mAP50  mAP50-95)     Mask(P          R      mAP50  mAP50-95): 100% 1/1 [00:06<00:00,  6.20s/it]\n",
            "                   all         17         96      0.283      0.302      0.267      0.197      0.283      0.302      0.267        0.2\n",
            "                 apple         17          3          0          0      0.139     0.0992          0          0      0.139     0.0707\n",
            "           apple_juice         17          5      0.153          1      0.206      0.141      0.153          1      0.206      0.173\n",
            "                banana         17          3          0          0      0.063     0.0488          0          0      0.063     0.0481\n",
            "              baseball         17          3          0          0     0.0553     0.0461          0          0     0.0553     0.0379\n",
            "                  bowl         17          3      0.153          1      0.585      0.494      0.153          1      0.585      0.524\n",
            "               cheezit         17         10      0.167          1      0.893      0.728      0.167          1      0.893      0.844\n",
            "       chocolate_jello         17          2          0          0     0.0302     0.0221          0          0     0.0302     0.0271\n",
            "              cleanser         17          5     0.0809        0.4     0.0578     0.0398     0.0809        0.4     0.0579     0.0372\n",
            "        coffee_grounds         17          2      0.109        0.5      0.551      0.495      0.109        0.5      0.551       0.54\n",
            "                  coke         17          1          0          0     0.0169     0.0135          0          0     0.0169     0.0152\n",
            "                   cup         17          3          0          0      0.122     0.0995          0          0      0.122      0.103\n",
            "                  fork         17          2          0          0     0.0905     0.0526          0          0     0.0905     0.0637\n",
            "                   kni         17          1          1          0     0.0203     0.0079          1          0     0.0203     0.0142\n",
            "                 knife         17          2      0.303        0.5      0.572      0.507      0.303        0.5      0.572        0.4\n",
            "                 lemon         17          3          1          0       0.72      0.506          1          0       0.72      0.535\n",
            "               mustard         17          4     0.0324       0.25     0.0458     0.0236     0.0324       0.25     0.0458     0.0209\n",
            "                orange         17          3          1          0      0.913      0.474          1          0      0.913      0.442\n",
            "                 peach         17          3      0.241      0.333      0.277       0.19      0.241      0.333      0.277      0.136\n",
            "                  pear         17          3      0.144      0.667      0.232      0.159      0.144      0.667      0.232      0.166\n",
            "                 plate         17          1       0.22          1      0.995      0.796       0.22          1      0.995      0.895\n",
            "                  plum         17          3          1          0      0.195      0.143          1          0      0.195     0.0499\n",
            "              pringles         17          7      0.156      0.857      0.446      0.373      0.156      0.857      0.446       0.42\n",
            "           soccer_ball         17          3      0.047      0.333     0.0553      0.038      0.047      0.333     0.0553     0.0452\n",
            "                  spam         17          2     0.0762        0.5      0.524      0.314     0.0762        0.5      0.524      0.314\n",
            "                sponge         17          3          1          0      0.107     0.0532          1          0      0.107     0.0747\n",
            "                 spoon         17          2          0          0      0.093      0.058          0          0      0.093     0.0582\n",
            "            strawberry         17          4          0          0      0.124     0.0778          0          0      0.124     0.0331\n",
            "      strawberry_jello         17          1          1          0          0          0          1          0          0          0\n",
            "                 sugar         17          3     0.0562      0.667      0.132      0.098     0.0562      0.667      0.132     0.0916\n",
            "           tennis_ball         17          3      0.112      0.667      0.171       0.13      0.112      0.667      0.171      0.143\n",
            "           tomato_soup         17          2          0          0      0.122     0.0904          0          0      0.122     0.0901\n",
            "                  tuna         17          1          1          0          0          0          1          0          0          0\n",
            "Results saved to \u001b[1mruns/train-seg/exp\u001b[0m\n"
          ]
        }
      ],
      "source": [
        "!python /content/yolov5/segment/train.py --data /content/yolov5/Simulation-YCB-1/data.yaml --weights /content/yolov5/weights/yolov5s-seg.pt --img 416 --batch 16 --epochs 30"
      ]
    },
    {
      "cell_type": "code",
      "execution_count": 6,
      "metadata": {
        "colab": {
          "base_uri": "https://localhost:8080/"
        },
        "id": "kkKJz5d-ZBdN",
        "outputId": "9bf05e54-f4b2-404d-8ba8-6a48c65b9b55"
      },
      "outputs": [
        {
          "output_type": "stream",
          "name": "stdout",
          "text": [
            "\u001b[34m\u001b[1msegment/predict: \u001b[0mweights=['/content/yolov5/runs/train-seg/exp/weights/best.pt'], source=/content/yolov5/Simulation-YCB-1/test/images, data=data/coco128.yaml, imgsz=[416, 416], conf_thres=0.2, iou_thres=0.45, max_det=1000, device=, view_img=False, save_txt=False, save_conf=False, save_crop=False, nosave=False, classes=None, agnostic_nms=False, augment=False, visualize=False, update=False, project=runs/predict-seg, name=exp, exist_ok=False, line_thickness=3, hide_labels=False, hide_conf=False, half=False, dnn=False, vid_stride=1, retina_masks=False\n",
            "YOLOv5 🚀 v7.0-267-gc42aba5 Python-3.10.12 torch-2.1.0+cu121 CPU\n",
            "\n",
            "Fusing layers... \n",
            "Model summary: 165 layers, 7487423 parameters, 0 gradients, 26.0 GFLOPs\n",
            "image 1/8 /content/yolov5/Simulation-YCB-1/test/images/img_141_png.rf.10265405d450ce5cdd5343e21c08ae27.jpg: 416x416 1 cheezit, 261.6ms\n",
            "image 2/8 /content/yolov5/Simulation-YCB-1/test/images/img_15_png.rf.cb374de9c719fbdad0b556dbd3a8e2f6.jpg: 416x416 3 cheezits, 249.2ms\n",
            "image 3/8 /content/yolov5/Simulation-YCB-1/test/images/img_2_png.rf.99b2039d2a9e7d07a466c970f8db1d45.jpg: 416x416 1 cheezit, 226.6ms\n",
            "image 4/8 /content/yolov5/Simulation-YCB-1/test/images/img_34_png.rf.cd0e2f6bb049962999f4627971695472.jpg: 416x416 (no detections), 244.6ms\n",
            "image 5/8 /content/yolov5/Simulation-YCB-1/test/images/img_39_png.rf.2d8d94b0c29c94f868c4ada64487070c.jpg: 416x416 1 plate, 236.9ms\n",
            "image 6/8 /content/yolov5/Simulation-YCB-1/test/images/img_79_png.rf.d2d68232dd87066e49292d54704bdb79.jpg: 416x416 1 cheezit, 317.7ms\n",
            "image 7/8 /content/yolov5/Simulation-YCB-1/test/images/img_89_png.rf.3f6180d28a12ba02ffc7af3975440e17.jpg: 416x416 (no detections), 363.2ms\n",
            "image 8/8 /content/yolov5/Simulation-YCB-1/test/images/img_90_png.rf.69bf3c53cef812c94c70adee860e5cbb.jpg: 416x416 (no detections), 370.1ms\n",
            "Speed: 0.8ms pre-process, 283.7ms inference, 1.2ms NMS per image at shape (1, 3, 416, 416)\n",
            "Results saved to \u001b[1mruns/predict-seg/exp\u001b[0m\n"
          ]
        }
      ],
      "source": [
        "!python /content/yolov5/segment/predict.py --weights /content/yolov5/runs/train-seg/exp/weights/best.pt --img 416 --conf 0.20 --source /content/yolov5/Simulation-YCB-1/test/images"
      ]
    },
    {
      "cell_type": "code",
      "execution_count": null,
      "metadata": {
        "id": "7HQ9pptlKubi"
      },
      "outputs": [],
      "source": []
    }
  ],
  "metadata": {
    "colab": {
      "provenance": []
    },
    "kernelspec": {
      "display_name": "Python 3",
      "name": "python3"
    },
    "language_info": {
      "name": "python"
    }
  },
  "nbformat": 4,
  "nbformat_minor": 0
}